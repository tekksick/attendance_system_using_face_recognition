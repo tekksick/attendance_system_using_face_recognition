{
  "cells": [
    {
      "cell_type": "code",
      "execution_count": null,
      "metadata": {
        "id": "ywiwrqy8wCA6"
      },
      "outputs": [],
      "source": [
        "!pip3 install face_recognition\n",
        "from PIL import Image\n",
        "import face_recognition\n",
        "import pandas as pd\n",
        "import numpy as np\n",
        "from sortedcontainers import SortedSet"
      ]
    },
    {
      "cell_type": "code",
      "execution_count": null,
      "metadata": {
        "id": "9tRKn0poCI_R"
      },
      "outputs": [],
      "source": [
        "roll_no = ['220001001', '220001002', '220001003', '220001004', '220001005', '220001006', '220001007', '220001008', '220001009', '220001010', '220001011', '220001012', '220001013', '220001014', '220001015', '220001016', '220001017', '220001018', '220001019', '220001020', '220001021', '220001022', '220001023', '220001024', '220001025', '220001026', '220001027', '220001028', '220001029', '220001031', '220001032', '220001033', '220001034', '220001035', '220001036', '220001037', '220001038', '220001039', '220001040', '220001041', '220001042', '220001043', '220001044', '220001045', '220001046', '220001047', '220001048', '220001049', '220001050', '220001051', '220001052', '220001053', '220001054', '220001055', '220001056', '220001057', '220001058', '220001059', '220001060', '220001061', '220001062', '220001063', '220001064', '220001065', '220001066', '220001067', '220001068', '220001069', '220001070', '220001071', '220001073', '220001074', '220001075', '220001076', '220001077', '220001078', '220001079', '220001080', '220001081', '220001082', '220002018', '220002029', '220002063', '220002081']\n",
        "# you can also import the list of roll numbers from a file"
      ]
    },
    {
      "cell_type": "code",
      "execution_count": null,
      "metadata": {
        "id": "U1j5oOWe8xqG"
      },
      "outputs": [],
      "source": [
        "attendance = SortedSet()"
      ]
    },
    {
      "cell_type": "code",
      "execution_count": null,
      "metadata": {
        "id": "Du3txzBqywo6"
      },
      "outputs": [],
      "source": [
        "data = pd.read_csv(\"Features_faces.csv\")\n",
        "ref_face_encodings = data.iloc[:,:-1].values\n",
        "name = data.iloc[:,-1].values"
      ]
    },
    {
      "cell_type": "code",
      "execution_count": null,
      "metadata": {
        "colab": {
          "base_uri": "https://localhost:8080/",
          "height": 1000
        },
        "id": "VrUIB4k6cDW_",
        "outputId": "649fa080-0bad-413e-d1ba-3ad841518b88"
      },
      "outputs": [],
      "source": [
        "gp_pic = face_recognition.load_image_file(\"26_10_23_middle_test.jpg\")\n",
        "\n",
        "face_locations = face_recognition.face_locations(gp_pic, number_of_times_to_upsample=2, model=\"cnn\")\n",
        "face_encodings = face_recognition.face_encodings(gp_pic, face_locations)\n",
        "\n",
        "print(\"I found {} face(s) in this photograph.\".format(len(face_locations)))\n",
        "j=0\n",
        "for face_location in face_locations:\n",
        "\n",
        "    top, right, bottom, left = face_location\n",
        "    face_image = gp_pic[top:bottom, left:right]\n",
        "    pil_image = Image.fromarray(face_image)\n",
        "    display(pil_image)\n",
        "    curr_check =  face_encodings[j]\n",
        "    j = j+1\n",
        "    ind=0\n",
        "    check = 100\n",
        "\n",
        "    for i in range(len(ref_face_encodings)):\n",
        "\n",
        "        results = face_recognition.face_distance([curr_check], ref_face_encodings[i])\n",
        "\n",
        "        if(check>results):\n",
        "            ind=i\n",
        "            check = min(check,results)\n",
        "\n",
        "    print(name[ind].split('-')[0],\"is present..\")\n",
        "    print(\"________________________\")\n",
        "    attendance.add(name[ind].split('_')[0])"
      ]
    },
    {
      "cell_type": "code",
      "execution_count": null,
      "metadata": {
        "id": "97X8ZkzsCRth"
      },
      "outputs": [],
      "source": [
        "data = {'roll number': roll_no, 'attendance': [1 if roll in attendance else 0 for roll in roll_no]}\n",
        "df = pd.DataFrame(data)\n",
        "Predicted_Attendance = df.iloc[:,-1].values\n",
        "Roll_nos = df.iloc[:,0].values"
      ]
    },
    {
      "cell_type": "code",
      "execution_count": null,
      "metadata": {
        "colab": {
          "base_uri": "https://localhost:8080/"
        },
        "id": "HdSJgy_qWjf_",
        "outputId": "345e6f48-d97b-40da-865d-f59eda4ace18"
      },
      "outputs": [
        {
          "name": "stderr",
          "output_type": "stream",
          "text": [
            "<ipython-input-50-229c1ac8f933>:4: DeprecationWarning: In a future version, `df.iloc[:, i] = newvals` will attempt to set the values inplace instead of always setting a new array. To retain the old behavior, use either `df[df.columns[i]] = newvals` or, if columns are non-unique, `df.isetitem(i, newvals)`\n",
            "  att.iloc[:, 3:] = att.iloc[:, 3:].applymap(lambda x: 1 if x == 0 else 0)\n"
          ]
        }
      ],
      "source": [
        "att = pd.read_csv(\"Attendance.csv\")\n",
        "att = att.drop(att.columns[0], axis=1)\n",
        "att.fillna(0, inplace=True)\n",
        "att.iloc[:, 3:] = att.iloc[:, 3:].applymap(lambda x: 1 if x == 0 else 0)\n",
        "Actual_attendance = att.iloc[:,8]"
      ]
    },
    {
      "cell_type": "code",
      "execution_count": null,
      "metadata": {
        "colab": {
          "base_uri": "https://localhost:8080/"
        },
        "id": "NZ8DOqeGjmlw",
        "outputId": "a12df5cf-d465-47ca-ef3d-87c0d2d83d8b"
      },
      "outputs": [
        {
          "name": "stdout",
          "output_type": "stream",
          "text": [
            "    Unnamed: 1                      CLASS NAME  23-Aug  28-Aug  30-Aug  6-Sep  13-Sep  11-Oct  16-Oct  Unnamed: 10  Unnamed: 11  Unnamed: 12  Unnamed: 13  Unnamed: 14  Unnamed: 15  Unnamed: 16  Unnamed: 17  Unnamed: 18  Unnamed: 19  Unnamed: 20  Unnamed: 21  Unnamed: 22  Unnamed: 23  Unnamed: 24  Unnamed: 25  Late  Excused absence  Unexcused absence\n",
            "0    220001001                     AADISH JAIN     0.0       1       0      1       0       1       1            1            1            1            1            1            1            1            1            1            1            1            1            1            1            1            1     1                1                  1\n",
            "1    220001002                  ABHINAV GANGIL     0.0       1       0      1       0       1       1            1            1            1            1            1            1            1            1            1            1            1            1            1            1            1            1     1                1                  1\n",
            "2    220001003           ADITI ASHISH WEKHANDE     0.0       1       1      1       1       1       1            1            1            1            1            1            1            1            1            1            1            1            1            1            1            1            1     1                1                  1\n",
            "3    220001004                  ADITYA KSHITIZ     0.0       1       1      1       0       1       1            1            1            1            1            1            1            1            1            1            1            1            1            1            1            1            1     1                1                  1\n",
            "4    220001005            ADITYA SACHIN MASTUD     0.0       1       1      1       1       1       1            1            1            1            1            1            1            1            1            1            1            1            1            1            1            1            1     1                1                  1\n",
            "5    220001006                    ADITYA YADAV     0.0       1       1      1       1       1       0            1            1            1            1            1            1            1            1            1            1            1            1            1            1            1            1     1                1                  1\n",
            "6    220001007               AMAN PRATAP SINGH     0.0       1       1      1       0       1       1            1            1            1            1            1            1            1            1            1            1            1            1            1            1            1            1     1                1                  1\n",
            "7    220001008                     AMIT TIWARI     0.0       1       1      1       0       0       1            1            1            1            1            1            1            1            1            1            1            1            1            1            1            1            1     1                1                  1\n",
            "8    220001009                  ANIRUDH GAUTAM     0.0       1       1      1       0       0       1            1            1            1            1            1            1            1            1            1            1            1            1            1            1            1            1     1                1                  1\n",
            "9    220001010             ANNAMSHETTI SUMANTH     0.0       1       1      1       1       0       1            1            1            1            1            1            1            1            1            1            1            1            1            1            1            1            1     1                1                  1\n",
            "10   220001011          ARAVAPALLI PAVAN KUMAR     0.0       1       1      1       1       1       1            1            1            1            1            1            1            1            1            1            1            1            1            1            1            1            1     1                1                  1\n",
            "11   220001012           ATHARVA ANIL SANGAWAR     0.0       1       1      1       0       1       1            1            1            1            1            1            1            1            1            1            1            1            1            1            1            1            1     1                1                  1\n",
            "12   220001013                  ATHARVA NANOTI     0.0       1       1      1       1       0       1            1            1            1            1            1            1            1            1            1            1            1            1            1            1            1            1     1                1                  1\n",
            "13   220001014                   AVIRAL SHARMA     0.0       1       1      1       1       1       1            1            1            1            1            1            1            1            1            1            1            1            1            1            1            1            1     1                1                  1\n",
            "14   220001015                 AYITHA TRIBUVAN     0.0       1       1      1       1       1       1            1            1            1            1            1            1            1            1            1            1            1            1            1            1            1            1     1                1                  1\n",
            "15   220001016              BALABHADRA RITHVIK     0.0       1       1      1       1       1       0            1            1            1            1            1            1            1            1            1            1            1            1            1            1            1            1     1                1                  1\n",
            "16   220001017                   BHARAT KAURAV     0.0       1       1      1       1       1       1            1            1            1            1            1            1            1            1            1            1            1            1            1            1            1            1     1                1                  1\n",
            "17   220001018  BHAVANAM SAI PAVAN KUMAR REDDY     0.0       1       1      1       1       1       1            1            1            1            1            1            1            1            1            1            1            1            1            1            1            1            1     1                1                  1\n",
            "18   220001019                   BHUKYA HAVISH     1.0       1       0      0       0       1       0            1            1            1            1            1            1            1            1            1            1            1            1            1            1            1            1     1                1                  1\n",
            "19   220001020          CHANDEKAR RIDDHI UMESH     0.0       1       0      0       1       1       1            1            1            1            1            1            1            1            1            1            1            1            1            1            1            1            1     1                1                  1\n",
            "20   220001021                CHERUPALLY VINAY     0.0       1       1      1       1       1       1            1            1            1            1            1            1            1            1            1            1            1            1            1            1            1            1     1                1                  1\n",
            "21   220001022               CHIRANJIVI KESHAV     0.0       1       1      1       1       1       1            1            1            1            1            1            1            1            1            1            1            1            1            1            1            1            1     1                1                  1\n",
            "22   220001023           DARBHA KALYANA SRIRAM     0.0       1       1      1       0       0       1            1            1            1            1            1            1            1            1            1            1            1            1            1            1            1            1     1                1                  1\n",
            "23   220001024                   DARSHIL PATEL     0.0       1       1      1       1       0       1            1            1            1            1            1            1            1            1            1            1            1            1            1            1            1            1     1                1                  1\n",
            "24   220001025                  DEBASISH PADHY     0.0       1       1      1       1       0       1            1            1            1            1            1            1            1            1            1            1            1            1            1            1            1            1     1                1                  1\n",
            "25   220001026                    DEEPAK YADAV     0.0       1       1      1       1       1       1            1            1            1            1            1            1            1            1            1            1            1            1            1            1            1            1     1                1                  1\n",
            "26   220001027               DEVANSHI CHHATBAR     0.0       1       1      1       1       1       1            1            1            1            1            1            1            1            1            1            1            1            1            1            1            1            1     1                1                  1\n",
            "27   220001028                  EDULA BHOOMIKA     0.0       1       1      1       1       1       1            1            1            1            1            1            1            1            1            1            1            1            1            1            1            1            1     1                1                  1\n",
            "28   220001029                 GARIMA UPADHYAY     0.0       1       1      1       1       1       1            1            1            1            1            1            1            1            1            1            1            1            1            1            1            1            1     1                1                  1\n",
            "29   220001031           GUNTUKU RISHWANTH SAI     1.0       1       0      0       0       0       0            1            1            1            1            1            1            1            1            1            1            1            1            1            1            1            1     1                1                  1\n",
            "30   220001032                   HITESH MAURYA     0.0       1       1      1       1       1       1            1            1            1            1            1            1            1            1            1            1            1            1            1            1            1            1     1                1                  1\n",
            "31   220001033                     JAY SOLANKI     1.0       1       1      1       0       1       0            1            1            1            1            1            1            1            1            1            1            1            1            1            1            1            1     1                1                  1\n",
            "32   220001034    JONNALAGADDA SAI PRANAY DEEP     0.0       1       1      1       1       1       1            1            1            1            1            1            1            1            1            1            1            1            1            1            1            1            1     1                1                  1\n",
            "33   220001035         KALWAGHE PRANAV SANTOSH     0.0       1       1      1       0       0       1            1            1            1            1            1            1            1            1            1            1            1            1            1            1            1            1     1                1                  1\n",
            "34   220001036             KAMBAM SAI RUCHITHA     0.0       1       1      1       1       1       1            1            1            1            1            1            1            1            1            1            1            1            1            1            1            1            1     1                1                  1\n",
            "35   220001037                     KANAK NAGAR     0.0       1       0      1       1       1       1            1            1            1            1            1            1            1            1            1            1            1            1            1            1            1            1     1                1                  1\n",
            "36   220001038    KAPUGANTY VENKATA SATYA TEJA     0.0       1       1      1       0       1       1            1            1            1            1            1            1            1            1            1            1            1            1            1            1            1            1     1                1                  1\n",
            "37   220001039           KARAN JALINDAR JADHAV     0.0       1       1      1       1       1       1            1            1            1            1            1            1            1            1            1            1            1            1            1            1            1            1     1                1                  1\n",
            "38   220001040           KODUDULA NIKETH REDDY     0.0       1       1      1       1       1       1            1            1            1            1            1            1            1            1            1            1            1            1            1            1            1            1     1                1                  1\n",
            "39   220001041                KONETI TEJASWINI     0.0       1       1      1       1       1       1            1            1            1            1            1            1            1            1            1            1            1            1            1            1            1            1     1                1                  1\n",
            "40   220001042                           LALIT     0.0       1       1      1       1       1       1            1            1            1            1            1            1            1            1            1            1            1            1            1            1            1            1     1                1                  1\n",
            "41   220001043                         MADAN P     0.0       1       1      1       1       1       1            1            1            1            1            1            1            1            1            1            1            1            1            1            1            1            1     1                1                  1\n",
            "42   220001044        MALLAVARAPU SAI VARSHITH     0.0       1       1      1       1       1       1            1            1            1            1            1            1            1            1            1            1            1            1            1            1            1            1     1                1                  1\n",
            "43   220001045                      MISHA JAIN     0.0       1       1      1       1       1       1            1            1            1            1            1            1            1            1            1            1            1            1            1            1            1            1     1                1                  1\n",
            "44   220001046                    MUDE ANKITHA     1.0       1       1      0       0       0       0            1            1            1            1            1            1            1            1            1            1            1            1            1            1            1            1     1                1                  1\n",
            "45   220001047               MUDE HEMA DEEPIKA     1.0       1       1      0       0       1       0            1            1            1            1            1            1            1            1            1            1            1            1            1            1            1            1     1                1                  1\n",
            "46   220001048                          MUSKAN     0.0       1       1      1       1       1       1            1            1            1            1            1            1            1            1            1            1            1            1            1            1            1            1     1                1                  1\n",
            "47   220001049            NAREN KUMAR SAI KAJA     0.0       1       1      1       1       1       1            1            1            1            1            1            1            1            1            1            1            1            1            1            1            1            1     1                1                  1\n",
            "48   220001050                        NEERUPAM     1.0       0       0      0       0       0       0            1            1            1            1            1            1            1            1            1            1            1            1            1            1            1            1     1                1                  1\n",
            "49   220001051            NIKITA SANJAY TAYADE     0.0       1       1      0       1       0       0            1            1            1            1            1            1            1            1            1            1            1            1            1            1            1            1     1                1                  1\n",
            "50   220001052                  P C UMA MAHESH     0.0       1       1      1       0       1       1            1            1            1            1            1            1            1            1            1            1            1            1            1            1            1            1     1                1                  1\n",
            "51   220001053             PANCHANGAM AKHILESH     0.0       1       1      1       1       0       1            1            1            1            1            1            1            1            1            1            1            1            1            1            1            1            1     1                1                  1\n",
            "52   220001054            PANTHAM RAJA KRISHNA     0.0       1       1      1       0       1       1            1            1            1            1            1            1            1            1            1            1            1            1            1            1            1            1     1                1                  1\n",
            "53   220001055               PAPPALA TEJASWINI     0.0       1       1      0       0       1       0            1            1            1            1            1            1            1            1            1            1            1            1            1            1            1            1     1                1                  1\n",
            "54   220001056                    PARAM BANSAL     0.0       1       0      1       0       0       1            1            1            1            1            1            1            1            1            1            1            1            1            1            1            1            1     1                1                  1\n",
            "55   220001057        PARTH SHARADRAO DESHMUKH     0.0       1       1      1       0       0       1            1            1            1            1            1            1            1            1            1            1            1            1            1            1            1            1     1                1                  1\n",
            "56   220001058       PRADEEP KUMAR REBBAVARAPU     0.0       1       1      1       1       1       1            1            1            1            1            1            1            1            1            1            1            1            1            1            1            1            1     1                1                  1\n",
            "57   220001059                 PRANJAY CHOUHAN     0.0       0       0      1       0       0       0            1            1            1            1            1            1            1            1            1            1            1            1            1            1            1            1     1                1                  1\n",
            "58   220001060                   PRATHAM GUPTA     0.0       1       1      1       1       0       1            1            1            1            1            1            1            1            1            1            1            1            1            1            1            1            1     1                1                  1\n",
            "59   220001061              PRINCE KUMAR GUPTA     0.0       1       1      1       1       1       0            1            1            1            1            1            1            1            1            1            1            1            1            1            1            1            1     1                1                  1\n",
            "60   220001062                  PRIYANSH VERMA     0.0       1       1      1       1       1       1            1            1            1            1            1            1            1            1            1            1            1            1            1            1            1            1     1                1                  1\n",
            "61   220001063           RISHI BHARAT JUNGHARE     0.0       1       1      1       1       1       1            1            1            1            1            1            1            1            1            1            1            1            1            1            1            1            1     1                1                  1\n",
            "62   220001064                       S RUTHVIK     0.0       1       1      1       1       1       1            1            1            1            1            1            1            1            1            1            1            1            1            1            1            1            1     1                1                  1\n",
            "63   220001065     SAI SANJANA REDDY ALGUBELLY     0.0       1       1      1       1       1       1            1            1            1            1            1            1            1            1            1            1            1            1            1            1            1            1     1                1                  1\n",
            "64   220001066                   SAKET MESHRAM     0.0       1       1      1       0       1       0            1            1            1            1            1            1            1            1            1            1            1            1            1            1            1            1     1                1                  1\n",
            "65   220001067           SAKET PRASHANT THAMKE     1.0       1       1      1       1       1       1            1            1            1            1            1            1            1            1            1            1            1            1            1            1            1            1     1                1                  1\n",
            "66   220001068                   SAMYAK DHYANI     1.0       1       1      1       0       0       1            1            1            1            1            1            1            1            1            1            1            1            1            1            1            1            1     1                1                  1\n",
            "67   220001069                   SANJEET KUMAR     0.0       1       1      1       1       1       1            1            1            1            1            1            1            1            1            1            1            1            1            1            1            1            1     1                1                  1\n",
            "68   220001070                    SARTHAK BRAR     0.0       1       0      1       0       1       1            1            1            1            1            1            1            1            1            1            1            1            1            1            1            1            1     1                1                  1\n",
            "69   220001071                   SATYA NARAYAN     0.0       1       1      1       1       1       1            1            1            1            1            1            1            1            1            1            1            1            1            1            1            1            1     1                1                  1\n",
            "70   220001073                    SHAIK SUHANA     0.0       1       1      1       1       1       1            1            1            1            1            1            1            1            1            1            1            1            1            1            1            1            1     1                1                  1\n",
            "71   220001074       SHAURYA KSHITIJ KHETARPAL     0.0       1       1      1       1       1       1            1            1            1            1            1            1            1            1            1            1            1            1            1            1            1            1     1                1                  1\n",
            "72   220001075                 SHIVRAJ RATHORE     0.0       1       1      1       1       0       1            1            1            1            1            1            1            1            1            1            1            1            1            1            1            1            1     1                1                  1\n",
            "73   220001076             SIDDHESH NITIN WAJE     0.0       0       1      1       1       1       1            1            1            1            1            1            1            1            1            1            1            1            1            1            1            1            1     1                1                  1\n",
            "74   220001077    VASHISTHA NARAYAN CHATURVEDI     0.0       1       0      1       0       0       1            1            1            1            1            1            1            1            1            1            1            1            1            1            1            1            1     1                1                  1\n",
            "75   220001078                   VEDANT DINKAR     0.0       1       1      1       1       1       1            1            1            1            1            1            1            1            1            1            1            1            1            1            1            1            1     1                1                  1\n",
            "76   220001079                   VIJIT BALSORI     0.0       1       1      1       1       1       1            1            1            1            1            1            1            1            1            1            1            1            1            1            1            1            1     1                1                  1\n",
            "77   220001080                    VINEET VERMA     0.0       1       1      1       1       1       1            1            1            1            1            1            1            1            1            1            1            1            1            1            1            1            1     1                1                  1\n",
            "78   220001081             VOTTE SRIYANS REDDY     0.0       1       1      1       0       0       1            1            1            1            1            1            1            1            1            1            1            1            1            1            1            1            1     1                1                  1\n",
            "79   220001082           YANNAM YESWANTH REDDY     0.0       1       1      1       1       1       1            1            1            1            1            1            1            1            1            1            1            1            1            1            1            1            1     1                1                  1\n",
            "80   220002018               ARNAV NIRMAL JAIN     0.0       1       1      1       1       1       1            1            1            1            1            1            1            1            1            1            1            1            1            1            1            1            1     1                1                  1\n",
            "81   220002029       BORRA GNANA VENKATA SHIVA     0.0       1       1      1       1       1       1            1            1            1            1            1            1            1            1            1            1            1            1            1            1            1            1     1                1                  1\n",
            "82   220002063                 PRASAD AKANKSHA     0.0       1       1      1       1       1       1            1            1            1            1            1            1            1            1            1            1            1            1            1            1            1            1     1                1                  1\n",
            "83   220002081                 VEDANT UPADHYAY     1.0       1       0      1       0       1       1            1            1            1            1            1            1            1            1            1            1            1            1            1            1            1            1     1                1                  1\n"
          ]
        }
      ],
      "source": [
        "print(att.to_string())"
      ]
    },
    {
      "cell_type": "code",
      "execution_count": null,
      "metadata": {
        "colab": {
          "base_uri": "https://localhost:8080/"
        },
        "id": "A_sUruL8eRCy",
        "outputId": "ecb2867c-6566-4119-ec0a-d997f168fe03"
      },
      "outputs": [
        {
          "data": {
            "text/plain": [
              "array([['220001001', 1, 1],\n",
              "       ['220001002', 1, 1],\n",
              "       ['220001003', 1, 1],\n",
              "       ['220001004', 1, 1],\n",
              "       ['220001005', 1, 1],\n",
              "       ['220001006', 0, 0],\n",
              "       ['220001007', 1, 0],\n",
              "       ['220001008', 1, 1],\n",
              "       ['220001009', 1, 1],\n",
              "       ['220001010', 1, 1],\n",
              "       ['220001011', 1, 1],\n",
              "       ['220001012', 1, 0],\n",
              "       ['220001013', 1, 1],\n",
              "       ['220001014', 1, 1],\n",
              "       ['220001015', 1, 1],\n",
              "       ['220001016', 0, 0],\n",
              "       ['220001017', 1, 1],\n",
              "       ['220001018', 1, 1],\n",
              "       ['220001019', 0, 0],\n",
              "       ['220001020', 1, 1],\n",
              "       ['220001021', 1, 0],\n",
              "       ['220001022', 1, 1],\n",
              "       ['220001023', 1, 1],\n",
              "       ['220001024', 1, 1],\n",
              "       ['220001025', 1, 1],\n",
              "       ['220001026', 1, 1],\n",
              "       ['220001027', 1, 1],\n",
              "       ['220001028', 1, 1],\n",
              "       ['220001029', 1, 0],\n",
              "       ['220001031', 0, 0],\n",
              "       ['220001032', 1, 0],\n",
              "       ['220001033', 0, 0],\n",
              "       ['220001034', 1, 1],\n",
              "       ['220001035', 1, 1],\n",
              "       ['220001036', 1, 1],\n",
              "       ['220001037', 1, 1],\n",
              "       ['220001038', 1, 1],\n",
              "       ['220001039', 1, 0],\n",
              "       ['220001040', 1, 1],\n",
              "       ['220001041', 1, 1],\n",
              "       ['220001042', 1, 1],\n",
              "       ['220001043', 1, 1],\n",
              "       ['220001044', 1, 1],\n",
              "       ['220001045', 1, 1],\n",
              "       ['220001046', 0, 0],\n",
              "       ['220001047', 0, 0],\n",
              "       ['220001048', 1, 1],\n",
              "       ['220001049', 1, 1],\n",
              "       ['220001050', 0, 0],\n",
              "       ['220001051', 0, 0],\n",
              "       ['220001052', 1, 0],\n",
              "       ['220001053', 1, 1],\n",
              "       ['220001054', 1, 0],\n",
              "       ['220001055', 0, 0],\n",
              "       ['220001056', 1, 1],\n",
              "       ['220001057', 1, 1],\n",
              "       ['220001058', 1, 1],\n",
              "       ['220001059', 0, 0],\n",
              "       ['220001060', 1, 1],\n",
              "       ['220001061', 0, 1],\n",
              "       ['220001062', 1, 0],\n",
              "       ['220001063', 1, 1],\n",
              "       ['220001064', 1, 1],\n",
              "       ['220001065', 1, 1],\n",
              "       ['220001066', 0, 1],\n",
              "       ['220001067', 1, 0],\n",
              "       ['220001068', 1, 1],\n",
              "       ['220001069', 1, 1],\n",
              "       ['220001070', 1, 1],\n",
              "       ['220001071', 1, 0],\n",
              "       ['220001073', 1, 0],\n",
              "       ['220001074', 1, 1],\n",
              "       ['220001075', 1, 1],\n",
              "       ['220001076', 1, 1],\n",
              "       ['220001077', 1, 0],\n",
              "       ['220001078', 1, 1],\n",
              "       ['220001079', 1, 1],\n",
              "       ['220001080', 1, 1],\n",
              "       ['220001081', 1, 1],\n",
              "       ['220001082', 1, 1],\n",
              "       ['220002018', 1, 1],\n",
              "       ['220002029', 1, 1],\n",
              "       ['220002063', 1, 1],\n",
              "       ['220002081', 1, 1]], dtype=object)"
            ]
          },
          "execution_count": 52,
          "metadata": {},
          "output_type": "execute_result"
        }
      ],
      "source": [
        "concatenated_array = np.column_stack((Roll_nos, Actual_attendance, Predicted_Attendance))\n",
        "concatenated_array"
      ]
    },
    {
      "cell_type": "code",
      "execution_count": null,
      "metadata": {
        "colab": {
          "base_uri": "https://localhost:8080/"
        },
        "id": "If9WO-QIhZYr",
        "outputId": "c7a0e37f-3998-43df-a9c8-53790f65d4f0"
      },
      "outputs": [
        {
          "name": "stdout",
          "output_type": "stream",
          "text": [
            "82.14285714285714\n"
          ]
        }
      ],
      "source": [
        "from sklearn.metrics import accuracy_score\n",
        "accuracy = accuracy_score(Actual_attendance, Predicted_Attendance)\n",
        "print(accuracy*100)"
      ]
    },
    {
      "cell_type": "code",
      "execution_count": null,
      "metadata": {
        "colab": {
          "base_uri": "https://localhost:8080/"
        },
        "id": "jRsGN6JHoBmF",
        "outputId": "2e204f26-00dc-48de-d77c-8ea7154d8169"
      },
      "outputs": [
        {
          "data": {
            "text/plain": [
              "array([[11,  2],\n",
              "       [13, 58]])"
            ]
          },
          "execution_count": 54,
          "metadata": {},
          "output_type": "execute_result"
        }
      ],
      "source": [
        "from sklearn.metrics import confusion_matrix\n",
        "confusion = confusion_matrix(Actual_attendance, Predicted_Attendance)\n",
        "confusion"
      ]
    }
  ],
  "metadata": {
    "accelerator": "GPU",
    "colab": {
      "gpuType": "T4",
      "provenance": []
    },
    "kernelspec": {
      "display_name": "Python 3",
      "name": "python3"
    },
    "language_info": {
      "name": "python"
    }
  },
  "nbformat": 4,
  "nbformat_minor": 0
}
