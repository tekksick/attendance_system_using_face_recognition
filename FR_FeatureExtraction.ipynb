{
  "nbformat": 4,
  "nbformat_minor": 0,
  "metadata": {
    "colab": {
      "provenance": [],
      "gpuType": "T4"
    },
    "kernelspec": {
      "name": "python3",
      "display_name": "Python 3"
    },
    "language_info": {
      "name": "python"
    },
    "accelerator": "GPU"
  },
  "cells": [
    {
      "cell_type": "markdown",
      "source": [
        "# Extracting features of all faces present in the directory"
      ],
      "metadata": {
        "id": "ktfDl7vLo1Oh"
      }
    },
    {
      "cell_type": "code",
      "execution_count": null,
      "metadata": {
        "id": "CXoeOucD7s_L",
        "colab": {
          "base_uri": "https://localhost:8080/"
        },
        "outputId": "c8f2c53c-241c-415c-80a1-3a9bcb950a62"
      },
      "outputs": [
        {
          "output_type": "stream",
          "name": "stdout",
          "text": [
            "Requirement already satisfied: face_recognition in /usr/local/lib/python3.10/dist-packages (1.3.0)\n",
            "Requirement already satisfied: face-recognition-models>=0.3.0 in /usr/local/lib/python3.10/dist-packages (from face_recognition) (0.3.0)\n",
            "Requirement already satisfied: Click>=6.0 in /usr/local/lib/python3.10/dist-packages (from face_recognition) (8.1.7)\n",
            "Requirement already satisfied: dlib>=19.7 in /usr/local/lib/python3.10/dist-packages (from face_recognition) (19.24.2)\n",
            "Requirement already satisfied: numpy in /usr/local/lib/python3.10/dist-packages (from face_recognition) (1.23.5)\n",
            "Requirement already satisfied: Pillow in /usr/local/lib/python3.10/dist-packages (from face_recognition) (9.4.0)\n"
          ]
        }
      ],
      "source": [
        "!pip3 install face_recognition\n",
        "import face_recognition\n",
        "import os\n",
        "import pandas as pd\n",
        "import numpy as np"
      ]
    },
    {
      "cell_type": "code",
      "source": [
        "#Connecting to Drive\n",
        "from google.colab import drive\n",
        "drive.mount('/content/drive')"
      ],
      "metadata": {
        "colab": {
          "base_uri": "https://localhost:8080/"
        },
        "id": "y_zpm3qh75hN",
        "outputId": "0aeb1bc9-5034-44cb-f440-2949f876421d"
      },
      "execution_count": null,
      "outputs": [
        {
          "output_type": "stream",
          "name": "stdout",
          "text": [
            "Drive already mounted at /content/drive; to attempt to forcibly remount, call drive.mount(\"/content/drive\", force_remount=True).\n"
          ]
        }
      ]
    },
    {
      "cell_type": "code",
      "source": [
        "paths=[]\n",
        "labels=[]\n",
        "for dirname,_,filenames in os.walk('PATH_TO _YOUR_DIRECTORY_CONTAINING_IMAGES'):\n",
        "  for filename in filenames:\n",
        "    label = filename.split('.')[0]\n",
        "    paths.append(os.path.join(dirname,filename))\n",
        "    labels.append(label.lower())"
      ],
      "metadata": {
        "id": "blYYd1n279Iu"
      },
      "execution_count": null,
      "outputs": []
    },
    {
      "cell_type": "code",
      "source": [
        "#Creating the DataFrame\n",
        "df = pd.DataFrame()\n",
        "df['image']=paths\n",
        "df['name']=labels"
      ],
      "metadata": {
        "id": "kzW2RvWyCp1o"
      },
      "execution_count": null,
      "outputs": []
    },
    {
      "cell_type": "code",
      "source": [
        "def get_features(filename):\n",
        "  picture = face_recognition.load_image_file(filename)\n",
        "  pic_encodings = face_recognition.face_encodings(picture)[0]\n",
        "  return pic_encodings"
      ],
      "metadata": {
        "id": "JQ2dsB8z9u_S"
      },
      "execution_count": null,
      "outputs": []
    },
    {
      "cell_type": "code",
      "source": [
        "X,Y =[],[]\n",
        "for i in range(len(paths)):\n",
        "  feature = get_features(df['image'][i])\n",
        "  X.append(feature)\n",
        "  Y.append(df['name'][i])\n",
        "  print(i,\"done..\")"
      ],
      "metadata": {
        "id": "B8gvlGe4B1PL",
        "colab": {
          "base_uri": "https://localhost:8080/"
        },
        "outputId": "31a19e0a-d15a-4d83-afe2-0845c588e39b"
      },
      "execution_count": null,
      "outputs": [
        {
          "output_type": "stream",
          "name": "stdout",
          "text": [
            "0 done..\n",
            "1 done..\n",
            "2 done..\n",
            "3 done..\n",
            "4 done..\n",
            "5 done..\n",
            "6 done..\n",
            "7 done..\n",
            "8 done..\n",
            "9 done..\n",
            "10 done..\n",
            "11 done..\n",
            "12 done..\n",
            "13 done..\n",
            "14 done..\n",
            "15 done..\n",
            "16 done..\n",
            "17 done..\n",
            "18 done..\n",
            "19 done..\n",
            "20 done..\n",
            "21 done..\n",
            "22 done..\n",
            "23 done..\n",
            "24 done..\n",
            "25 done..\n",
            "26 done..\n",
            "27 done..\n",
            "28 done..\n",
            "29 done..\n",
            "30 done..\n",
            "31 done..\n",
            "32 done..\n",
            "33 done..\n",
            "34 done..\n",
            "35 done..\n",
            "36 done..\n",
            "37 done..\n",
            "38 done..\n",
            "39 done..\n",
            "40 done..\n",
            "41 done..\n",
            "42 done..\n",
            "43 done..\n",
            "44 done..\n",
            "45 done..\n",
            "46 done..\n",
            "47 done..\n",
            "48 done..\n",
            "49 done..\n",
            "50 done..\n",
            "51 done..\n",
            "52 done..\n",
            "53 done..\n",
            "54 done..\n",
            "55 done..\n",
            "56 done..\n",
            "57 done..\n",
            "58 done..\n",
            "59 done..\n",
            "60 done..\n",
            "61 done..\n",
            "62 done..\n",
            "63 done..\n",
            "64 done..\n",
            "65 done..\n",
            "66 done..\n",
            "67 done..\n",
            "68 done..\n",
            "69 done..\n",
            "70 done..\n",
            "71 done..\n",
            "72 done..\n",
            "73 done..\n",
            "74 done..\n",
            "75 done..\n",
            "76 done..\n",
            "77 done..\n",
            "78 done..\n",
            "79 done..\n",
            "80 done..\n",
            "81 done..\n",
            "82 done..\n",
            "83 done..\n",
            "84 done..\n",
            "85 done..\n",
            "86 done..\n",
            "87 done..\n",
            "88 done..\n",
            "89 done..\n",
            "90 done..\n",
            "91 done..\n",
            "92 done..\n",
            "93 done..\n",
            "94 done..\n",
            "95 done..\n",
            "96 done..\n",
            "97 done..\n",
            "98 done..\n",
            "99 done..\n",
            "100 done..\n",
            "101 done..\n",
            "102 done..\n",
            "103 done..\n",
            "104 done..\n",
            "105 done..\n",
            "106 done..\n",
            "107 done..\n",
            "108 done..\n",
            "109 done..\n",
            "110 done..\n",
            "111 done..\n",
            "112 done..\n",
            "113 done..\n",
            "114 done..\n",
            "115 done..\n",
            "116 done..\n",
            "117 done..\n",
            "118 done..\n",
            "119 done..\n",
            "120 done..\n",
            "121 done..\n",
            "122 done..\n",
            "123 done..\n",
            "124 done..\n",
            "125 done..\n",
            "126 done..\n",
            "127 done..\n",
            "128 done..\n",
            "129 done..\n",
            "130 done..\n",
            "131 done..\n"
          ]
        }
      ]
    },
    {
      "cell_type": "code",
      "source": [
        "Features = pd.DataFrame(X)\n",
        "Features['labels'] = Y\n",
        "Features.to_csv('Final_features_0.csv', index=False)"
      ],
      "metadata": {
        "id": "q9nxQG9mAUxO"
      },
      "execution_count": null,
      "outputs": []
    }
  ]
}
